{
 "cells": [
  {
   "cell_type": "code",
   "execution_count": null,
   "metadata": {},
   "outputs": [],
   "source": [
    "# Dependencies\n",
    "import datetime\n",
    "import time\n",
    "import matplotlib.pyplot as plt\n",
    "import pandas as pd\n",
    "import numpy as np\n",
    "import requests\n",
    "import json\n",
    "from citipy import citipy\n",
    "# Open Weather Map API key\n",
    "from config import api_key"
   ]
  },
  {
   "cell_type": "code",
   "execution_count": null,
   "metadata": {},
   "outputs": [],
   "source": [
    "# Get random longitude\n",
    "lon = np.random.uniform (low=-1.8, high=1.8, size=(1150)) * 100\n",
    "\n",
    "# Get random Latitude\n",
    "lat = np.random.uniform (low=-0.9, high=0.9, size=(1150)) * 100\n",
    "\n",
    "# Combine random latitude and longitude coordinates\n",
    "coordinates = np.stack((lat, lon), axis=-1)"
   ]
  },
  {
   "cell_type": "code",
   "execution_count": null,
   "metadata": {},
   "outputs": [],
   "source": [
    "# Create cities data frame\n",
    "cities_raw = []\n",
    "for coordinate_pair in coordinates:\n",
    "    lat, lon = coordinate_pair\n",
    "    cities_raw.append(citipy.nearest_city(lat, lon))\n",
    "    \n",
    "dup_items = set()\n",
    "cities = []\n",
    "for x in cities_raw:\n",
    "    if x not in dup_items:\n",
    "        cities.append(x)\n",
    "        dup_items.add(x)\n",
    "    \n",
    "print(len(cities))"
   ]
  },
  {
   "cell_type": "code",
   "execution_count": null,
   "metadata": {},
   "outputs": [],
   "source": [
    "# URL\n",
    "url = \"http://api.openweathermap.org/data/2.5/weather?\"\n",
    "units = \"Imperial\"\n",
    "\n",
    "# set up lists to hold reponse info\n",
    "date_list = []\n",
    "city_list = []\n",
    "country_list = []\n",
    "cloud_list = []\n",
    "humid_list = []\n",
    "lat_list = []\n",
    "lon_list = []\n",
    "maxtmp_list = []\n",
    "wind_list = []\n",
    "\n",
    "x = 1\n",
    "    \n",
    "# Build query URL\n",
    "for city in cities:\n",
    "    \n",
    "   \n",
    "    name = city.city_name\n",
    "    print(\"Retreiving data for City #\"+ str(x) + \" of \" + str((len(cities))) + \" ... \"  + name )\n",
    "    \n",
    "    query_url = url + \"appid=\" + api_key + \"&q=\" + name + \"&units=\" + units\n",
    "    print(query_url)\n",
    "    \n",
    "    # Get weather data\n",
    "    weather_response = requests.get(query_url)\n",
    "    weather_json = weather_response.json()\n",
    "    \n",
    "   \n",
    "    # Catch wrong city name exception\n",
    "    try:\n",
    "   \n",
    "        date_list.append(weather_json['dt'])\n",
    "        city_list.append(weather_json['name'])\n",
    "        country_list.append(weather_json['sys']['country'])\n",
    "        lat_list.append(weather_json['coord']['lat'])\n",
    "        lon_list.append(weather_json['coord']['lon'])\n",
    "        maxtmp_list.append(weather_json['main']['temp_max'])\n",
    "        humid_list.append(weather_json['main']['humidity'])\n",
    "        cloud_list.append(weather_json['clouds']['all'])\n",
    "        wind_list.append(weather_json['wind']['speed'])\n",
    "        \n",
    "        x = x + 1\n",
    "            \n",
    "    except:\n",
    "             print(\"Invalid city name.\")"
   ]
  },
  {
   "cell_type": "code",
   "execution_count": null,
   "metadata": {},
   "outputs": [],
   "source": [
    "weather_dict = {\n",
    "    \"Date\": date_list,\n",
    "    \"City\": city_list,\n",
    "    \"Country\": country_list,\n",
    "    \"Latitude\": lat_list,\n",
    "    \"Longitude\": lon_list,\n",
    "    \"MaxTemp\": maxtmp_list,\n",
    "    \"Humidity\": humid_list,\n",
    "    \"Cloud Cover\": cloud_list,\n",
    "    \"Wind Speed\": wind_list\n",
    "}\n",
    "\n",
    "\n",
    "weather_data = pd.DataFrame(weather_dict)\n",
    "weather_data = weather_data.drop_duplicates([\"City\"], keep ='first')\n",
    "\n",
    "weather_data.head()"
   ]
  },
  {
   "cell_type": "code",
   "execution_count": null,
   "metadata": {},
   "outputs": [],
   "source": [
    "weather_data.count()"
   ]
  },
  {
   "cell_type": "code",
   "execution_count": null,
   "metadata": {},
   "outputs": [],
   "source": [
    "weather_data.to_csv(\"Weather_Data.csv\", index=False)"
   ]
  },
  {
   "cell_type": "code",
   "execution_count": null,
   "metadata": {},
   "outputs": [],
   "source": [
    "tmpDate = datetime.datetime.fromtimestamp(int(weather_data[\"Date\"][0])).strftime('%Y-%m-%d')"
   ]
  },
  {
   "cell_type": "markdown",
   "metadata": {},
   "source": [
    "# Latitude vs Max Temperature"
   ]
  },
  {
   "cell_type": "code",
   "execution_count": null,
   "metadata": {},
   "outputs": [],
   "source": [
    "plt.scatter(weather_data[\"Latitude\"],weather_data[\"MaxTemp\"], marker=\"o\", alpha = 0.75)\n",
    "\n",
    "plt.title(\"Latitude vs. Max Temperature (\" + tmpDate + \")\")\n",
    "plt.xlabel(\"Latitude\")\n",
    "plt.ylabel(\"Max Temperature (F)\")\n",
    "plt.grid(True)\n",
    "\n",
    "plt.savefig(\"Maximum_Temp.png\")\n",
    "plt.show()"
   ]
  },
  {
   "cell_type": "markdown",
   "metadata": {},
   "source": [
    "# Latitude vs Humidity"
   ]
  },
  {
   "cell_type": "code",
   "execution_count": null,
   "metadata": {},
   "outputs": [],
   "source": [
    "plt.scatter(weather_data[\"Latitude\"],weather_data[\"Humidity\"], marker=\"o\", alpha = 0.75)\n",
    "\n",
    "plt.title(\"Latitude vs. Humidity (\" + tmpDate + \")\")\n",
    "plt.xlabel(\"Latitude\")\n",
    "plt.ylabel(\"Humidity (%)\")\n",
    "plt.grid(True)\n",
    "\n",
    "plt.savefig(\"Humidity.png\")\n",
    "plt.show()"
   ]
  },
  {
   "cell_type": "markdown",
   "metadata": {},
   "source": [
    "# Latitude vs Cloud Cover"
   ]
  },
  {
   "cell_type": "code",
   "execution_count": null,
   "metadata": {},
   "outputs": [],
   "source": [
    "plt.scatter(weather_data[\"Latitude\"],weather_data[\"Cloud Cover\"], marker=\"o\", alpha = 0.75)\n",
    "\n",
    "plt.title(\"Latitude vs. Cloud Cover (\" + tmpDate + \")\")\n",
    "plt.xlabel(\"Latitude\")\n",
    "plt.ylabel(\"Cloud Cover (%)\")\n",
    "plt.grid(True)\n",
    "\n",
    "plt.savefig(\"Cloud_Cover.png\")\n",
    "plt.show()"
   ]
  },
  {
   "cell_type": "markdown",
   "metadata": {},
   "source": [
    "# Latitude vs Wind Speed"
   ]
  },
  {
   "cell_type": "code",
   "execution_count": null,
   "metadata": {},
   "outputs": [],
   "source": [
    "plt.scatter(weather_data[\"Latitude\"],weather_data[\"Wind Speed\"], marker=\"o\", alpha = 0.75)\n",
    "\n",
    "plt.title(\"Latitude vs. Wind Speed (\" + tmpDate + \")\")\n",
    "plt.xlabel(\"Latitude\")\n",
    "plt.ylabel(\"Wind Speed (mph)\")\n",
    "plt.grid(True)\n",
    "\n",
    "plt.savefig(\"WindSpeed.png\")\n",
    "plt.show()"
   ]
  },
  {
   "cell_type": "markdown",
   "metadata": {},
   "source": [
    "# Observations:"
   ]
  },
  {
   "cell_type": "markdown",
   "metadata": {},
   "source": [
    "1. There is a correlation between latitude and temperature. The highest temperatures are found between 30 and 50 degrees latitude, the same latitude range where major deserts are located. \n",
    "\n",
    "2. There is no correlation between latitude and cloudiness, and only slight correlation between latitude and wind speed. There are higher wind speeds observed in the southern hemisphere.\n",
    "\n",
    "3. The correlation between latitude and humidity is also not pronounced. The humidity is higher in the northern hemisphere."
   ]
  }
 ],
 "metadata": {
  "anaconda-cloud": {},
  "kernelspec": {
   "display_name": "Python 3",
   "language": "python",
   "name": "python3"
  },
  "language_info": {
   "codemirror_mode": {
    "name": "ipython",
    "version": 3
   },
   "file_extension": ".py",
   "mimetype": "text/x-python",
   "name": "python",
   "nbconvert_exporter": "python",
   "pygments_lexer": "ipython3",
   "version": "3.6.5"
  }
 },
 "nbformat": 4,
 "nbformat_minor": 1
}
